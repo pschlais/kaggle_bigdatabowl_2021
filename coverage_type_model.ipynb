{
 "cells": [
  {
   "cell_type": "markdown",
   "metadata": {},
   "source": [
    "[Kaggle Competition](https://www.kaggle.com/c/nfl-big-data-bowl-2021)\n",
    "\n",
    "Purpose of this notebook is to generate prediction models for the coverage type, based on 2018 week 1 labels provided in the competition.\n",
    "\n",
    "Reason behind building a coverage label prediction model is to label plays for all other weeks (2-17) and then use that as an additional feature of downstream analytics, either at the play-level or tracking data within plays of a specific coverage type."
   ]
  },
  {
   "cell_type": "markdown",
   "metadata": {},
   "source": [
    "# Imports"
   ]
  },
  {
   "cell_type": "code",
   "execution_count": 1,
   "metadata": {},
   "outputs": [],
   "source": [
    "%matplotlib inline\n",
    "import pandas as pd\n",
    "import numpy as np\n",
    "import matplotlib.pyplot as plt\n",
    "from matplotlib import animation\n",
    "import seaborn as sns"
   ]
  },
  {
   "cell_type": "code",
   "execution_count": 37,
   "metadata": {},
   "outputs": [],
   "source": [
    "from sklearn.preprocessing import StandardScaler\n",
    "from sklearn.model_selection import train_test_split, cross_val_score, GridSearchCV\n",
    "from sklearn.pipeline import make_pipeline, Pipeline\n",
    "from sklearn.ensemble import RandomForestClassifier, AdaBoostClassifier\n",
    "from sklearn.naive_bayes import GaussianNB\n",
    "from sklearn.svm import SVC\n",
    "from sklearn.neighbors import KNeighborsClassifier\n",
    "from sklearn.preprocessing import OrdinalEncoder\n",
    "from sklearn.metrics import accuracy_score, confusion_matrix"
   ]
  },
  {
   "cell_type": "code",
   "execution_count": 3,
   "metadata": {},
   "outputs": [],
   "source": [
    "# add local directory to import path\n",
    "import os\n",
    "import sys\n",
    "module_path = os.path.abspath(os.path.join('.'))\n",
    "if module_path not in sys.path:\n",
    "    sys.path.append(module_path)\n",
    "    \n",
    "import nflutil"
   ]
  },
  {
   "cell_type": "markdown",
   "metadata": {},
   "source": [
    "Loading the data:"
   ]
  },
  {
   "cell_type": "code",
   "execution_count": 4,
   "metadata": {},
   "outputs": [],
   "source": [
    "week_num = 1\n",
    "\n",
    "track_df = pd.read_csv(f'csv/week{week_num}.csv')\n",
    "play_df = pd.read_csv('csv/plays.csv')\n",
    "game_df = pd.read_csv('csv/games.csv')\n",
    "player_df = pd.read_csv('csv/players.csv')\n",
    "coverage_df = pd.read_csv('csv/coverages_week1.csv')"
   ]
  },
  {
   "cell_type": "markdown",
   "metadata": {},
   "source": [
    "# Generate Features\n",
    "\n",
    "Features are generated on a per-play basis to predict the overall defensive coverage scheme.\n",
    "\n",
    "Unless specified as the value at a particular stage of the play (snap, throw, etc.), the features are calculated at each time step between the snap and a \"pivot\" event that will alter the behavior of the defense (i.e. throw or sack) or a maximum elapsed time after the snap, whichever is first. The maximum time is meant to limit the effect of the play breaking down on the planned movements of the players.\n",
    "\n",
    "All defenders are evaluated at a threshold time in the play (e.g. 1.5 seconds after snap) if they are still beyond the line of scrimmage to determine which defenders are actually in coverage vs. blitzing. Blitzing player values would skew average results, and the movement of the rusher does not matter beyond the fact that they are not in coverage.\n",
    "\n",
    "The following features are generated at a per-defender level (inspired by [this paper](https://arxiv.org/abs/1906.11373)), then averaged across all coverage defenders:\n",
    "\n",
    "* **depth_mean**: average yards downfield of the defender (same as X_mean but normalizes for line of scrimmage)\n",
    "* **depth_var**: variance in downfield movement (same as X_var, lower value expected for zone)\n",
    "* **y_mean**: average horizontal location of defender\n",
    "* **y_var**: variance in horizontal movement (lower value expected for zone)\n",
    "* **speed_mean**: average speed of the defender, yd/sec (lower value expected for zone)\n",
    "* **speed_var**: variance in speed of the defender (lower expected for zone)\n",
    "* **off_mean**: average distance to the closest offensive player at each frame during a play (lower expected for man)\n",
    "* **off_var**: variance in distance to the closest offensive player at each frame (lower expected for man)\n",
    "* **def_mean**: average distance to the closest defender at each frame\n",
    "* **def_var**: variance in distance to the closest defender at each frame\n",
    "* **rat_mean**: see paper for better description\n",
    "* **rat_var**: see paper for better description\n",
    "* **rat_o_los**: ratio of time during a play that a defender is facing the QB/line of scrimmage. Expected to be near 1 for zone (reading the QB's eyes, keeping receivers in front of them vs. turning and running with the receiver) **Current threshold is 180 degrees; may want to make this smaller like 90 degrees to account for man coverage following crossing routes or moving mostly sideways but slightly towards the LOS**\n",
    "\n",
    "The following play-level features are generated:\n",
    "\n",
    "* **n_cover**: the number of defenders with tracking data in coverage (beyond the LOS at t_defender_thresh sec)\n",
    "* **n_cb**: the number of cornerbacks in the defensive formation\n",
    "* **n_def_excess**: the number of coverage defenders minus eligible receivers (players available for zone or double coverage)\n",
    "\n",
    "The following features are evaluated based on player locations at the snap (leverage info when defense do not disguise coverage pre-snap):\n",
    "* **n_deep_snap**: the number of defenders over 10 yards downfield at the snap\n",
    "* **cb_depth_snap_min**: depth of closest CB to the LOS (press vs. soft)\n",
    "* **cb_depth_snap_mean**: average depth of CBs\n",
    "* **cb_depth_snap_max**: depth of farther CB to the LOS (zone expected for far off the ball)\n",
    "\n",
    "The following features are evaluated at the \"freeze\" time (determining which players are in coverage, coverage scheme is assumed to be materialized regardless if it was being disguised pre-snap or not):\n",
    "* **n_deep_frz**: number of defenders over 10 yards downfield at \"freeze\"\n",
    "* **def_spac_frz_avg**: spacing to nearest defender at \"freeze\", averaged over all coverage players\n",
    "* **def_spac_frz_min**: same source as above, but minimum (larger expected for zone)\n",
    "* **def_spac_frz_max**: same source as above, but maximum (smaller expected for zone)\n",
    "* **cb_depth_frz_min**: same as at snap but at the \"freeze\" time\n",
    "* **cb_depth_frz_mean**: same as at snap but at the \"freeze\" time\n",
    "* **cb_depth_frz_max**: same as at snap but at the \"freeze\" time"
   ]
  },
  {
   "cell_type": "code",
   "execution_count": 51,
   "metadata": {},
   "outputs": [],
   "source": [
    "def create_play_features(play_track_df, t_defender_thresh=1.5, t_scheme_develop=3):\n",
    "    ### THE INPUT TRACKING DATA MUST BE NORMALIZED FOR DIRECTION BEFORE INPUT INTO THIS FUNCTION\n",
    "    # inputs:\n",
    "    #     - play_track_df: DataFrame of the raw player tracking data for an individual play.\n",
    "    #                      MUST ONLY BE FOR A SINGLE PLAY, CANNOT HANDLE MULTIPLE PLAYS.\n",
    "    #     - t_defender_thresh: time in seconds after the snap to determine which players are in coverage\n",
    "    #     - t_scheme_develop: time in seconds after the snap to set as a max time threshold\n",
    "    #                         (i.e. before the play breaks down, after which the movement \n",
    "    #                          is not always indicative of the coverage scheme)\n",
    "    \n",
    "    # local constants\n",
    "    DEF_DEEP_THRESH = 10  # yards behind the line of scrimmage considered \"deep\" coverage\n",
    "\n",
    "    # work on a copy of the data rather than the actual data (for temporary features)\n",
    "    play_track_df = play_track_df.copy()\n",
    "    \n",
    "    # ------------- FEATURE GENERATION SETUP/INTERMEDIATE CALCULATIONS ----------------------\n",
    "    \n",
    "    # make a dictionary of nflId to position for each player in the play\n",
    "    player_positions = play_track_df.groupby('nflId')[['nflId', 'position']].head(1).dropna()  # football is np.nan\n",
    "    position_dict = dict(zip(player_positions['nflId'].tolist(), player_positions['position'].tolist()))\n",
    "    \n",
    "    # get play information\n",
    "    x_los = play_track_df.x[(play_track_df.team == 'football') & (play_track_df.frameId == 1)].iloc[0]\n",
    "    \n",
    "    # save the distance downfield of all observations relative to the line of scrimmage\n",
    "    play_track_df['depth'] = play_track_df['x'] - x_los\n",
    "    \n",
    "    # get frameId for specific points in the play (exclude handoff: not a material pivot part of the play,\n",
    "    # also sometimes occurs prior to the snap)\n",
    "    pivot_events = ['pass_forward', 'qb_sack', 'fumble', 'qb_strip_sack', 'pass_shovel']\n",
    "    \n",
    "    frame_max = play_track_df.frameId.max()\n",
    "    frame_snap = play_track_df[play_track_df.event=='ball_snap']['frameId'].iloc[0]\n",
    "    if np.any(play_track_df.event.isin(pivot_events)):\n",
    "        frame_pivot = play_track_df.frameId[play_track_df.event.isin(pivot_events)].iloc[0]\n",
    "    else:\n",
    "        frame_pivot = frame_max\n",
    "    \n",
    "    # important frameId's in the play:\n",
    "    frame_start = frame_snap\n",
    "    frame_cover_freeze = min(frame_max, frame_pivot, int(round(frame_snap + 10*t_defender_thresh)))\n",
    "    frame_scheme_develop = int(frame_snap + round(10*t_scheme_develop))\n",
    "    frame_end = min(frame_pivot, frame_scheme_develop, frame_max)\n",
    "    \n",
    "#     print(f'frame_start: {frame_start}')\n",
    "#     print(f'frame_cover_freeze: {frame_cover_freeze}')\n",
    "#     print(f'frame_scheme_develop: {frame_scheme_develop}')\n",
    "#     print(f'frame_end: {frame_end}')\n",
    "#     print(f'frame_max: {frame_max}')\n",
    "    \n",
    "    \n",
    "    # filter out data from frames outside of the range (frame_start <= F <= frame_end)\n",
    "    play_track_df = play_track_df[(play_track_df.frameId >= frame_start) & (play_track_df.frameId <= frame_end)]\n",
    "    \n",
    "    \n",
    "    # ----- SAVE SLICES OF DATAFRAME FOR DEFENDERS AND COVERAGE AND ELIGIBLE RECEIVERS ----\n",
    "    \n",
    "    # get defensive player tracks that are in coverage (i.e. not blitzing/rushing the passer)\n",
    "    def_positions = ['DE', 'DL', 'NT', 'LB', 'MLB', 'ILB', 'OLB', 'DB', 'CB', 'FS', 'SS', 'S']\n",
    "    cover_players = play_track_df.nflId[(play_track_df.frameId == frame_cover_freeze) &\n",
    "                          play_track_df.position.isin(def_positions) & \n",
    "                          (play_track_df.depth > 0)]\n",
    "    def_track = play_track_df[play_track_df.nflId.isin(cover_players)].pivot(\n",
    "        index='frameId', columns='nflId', values=['x', 'depth', 'y', 's', 'a', 'dir', 'o'])\n",
    "    \n",
    "    # get offensive player tracks of eligible receivers (minus QB)\n",
    "    off_positions = ['WR', 'RB', 'TE', 'FB', 'HB']\n",
    "    off_track = play_track_df[play_track_df.position.isin(off_positions)].pivot(\n",
    "        index='frameId', columns='nflId', values=['x', 'depth', 'y', 's', 'a', 'dir', 'o'])\n",
    "    \n",
    "    \n",
    "    # ------ PLAY CHARACTERISTICS AT SPECIFIC FRAMES/POINTS IN TIME -----------------------\n",
    "    \n",
    "    # find characteristics of scheme at the snap (line of scrimmage naturally divides offense + defense)\n",
    "    n_deep_snap = np.sum((play_track_df.depth >= DEF_DEEP_THRESH) & (play_track_df.frameId == frame_start))\n",
    "    n_cb = len(play_track_df[play_track_df.position=='CB'].groupby('nflId').head(1))\n",
    "    cb_depth_at_snap = play_track_df.loc[(play_track_df.frameId == frame_start) & (play_track_df.position=='CB'), 'depth']\n",
    "    \n",
    "    # find characteristics of players in coverage at the \"cover freeze time\"\n",
    "    n_deep_freeze = np.sum((play_track_df.nflId.isin(cover_players)) & \n",
    "                           (play_track_df.depth >= DEF_DEEP_THRESH) &\n",
    "                           (play_track_df.frameId == frame_cover_freeze))\n",
    "    cb_depth_at_freeze = play_track_df.loc[(play_track_df.frameId == frame_cover_freeze) & (play_track_df.position=='CB'), 'depth']\n",
    "    \n",
    "    # calculate the number of \"excess defenders\" (available for free zone or double coverage)\n",
    "    # - negative either means uncovered, or potential receiver stays back in protection\n",
    "    n_def_excess = len(cover_players) - len(play_track_df.nflId[play_track_df.position.isin(off_positions)].unique())\n",
    "    \n",
    "    \n",
    "    # ------GENERATE FEATURES FOR EACH COVERAGE PLAYER AT EACH FRAME ---------------------\n",
    "    \n",
    "    feature_data = {'depth_mean': [],\n",
    "                    'depth_var': [],\n",
    "                    'y_mean': [],\n",
    "                    'y_var': [],\n",
    "                    'speed_mean': [],\n",
    "                    'speed_var': [],\n",
    "                    'off_mean': [],\n",
    "                    'off_var': [],\n",
    "                    'off_dir_mean': [],\n",
    "                    'off_dir_var': [],\n",
    "                    'def_mean': [],\n",
    "                    'def_var': [],\n",
    "                    'rat_mean': [],\n",
    "                    'rat_var': [],\n",
    "                    'rat_o_los': []\n",
    "                   }\n",
    "    \n",
    "    # data that is not dependent on the specific player\n",
    "    x_off = off_track['x'].to_numpy()  # (n_frame, n_off) array\n",
    "    y_off = off_track['y'].to_numpy()  # (n_frame, n_off) array\n",
    "    dir_off = off_track['dir'].to_numpy()  # (n_frame, n_off array)\n",
    "    \n",
    "    # preallocate numpy array for minimum distance to nearest defensive player for each frame\n",
    "    dist_def_min_array = np.empty([len(play_track_df.frameId.unique()), len(cover_players)])\n",
    "    dist_def_min_array[:] = np.nan\n",
    "    \n",
    "    # loop over each defensive player\n",
    "    for i, player in enumerate(cover_players):\n",
    "        x_player = def_track['x'][player].to_numpy().reshape(-1, 1)  # (n_frame,1) array\n",
    "        depth_player = def_track['depth'][player].to_numpy().reshape(-1, 1)  # (n_frame,1) array\n",
    "        y_player = def_track['y'][player].to_numpy().reshape(-1, 1)  # (n_frame,1) array\n",
    "        s_player = def_track['s'][player].to_numpy().reshape(-1, 1)  # (n_frame,1) array\n",
    "        o_player = def_track['o'][player].to_numpy().reshape(-1, 1)  # (n_frame,1) array\n",
    "        dir_player = def_track['dir'][player].to_numpy().reshape(-1, 1)  # (n_frame,1) array\n",
    "        \n",
    "        x_def = def_track['x'].drop(columns=player).to_numpy()  # (n_frame, n_def-1) array\n",
    "        y_def = def_track['y'].drop(columns=player).to_numpy()  # (n_frame, n_def-1) array\n",
    "        \n",
    "        # calculate distance to each player at each time\n",
    "        dist_off = np.sqrt((x_player - x_off)**2 + (y_player - y_off)**2)  # (n_frame, n_off) array\n",
    "        dist_off_min = np.nanmin(dist_off, axis=1) # (n_frame,) array\n",
    "        dist_def = np.sqrt((x_player - x_def)**2 + (y_player - y_def)**2)  # (n_frame, n_off) array\n",
    "        dist_def_min = np.nanmin(dist_def, axis=1) # (n_frame,) array\n",
    "        \n",
    "        # save minimum distances for each player in external array\n",
    "        dist_def_min_array[:, i] = dist_def_min\n",
    "        \n",
    "        # get the direction of the closest offensive player at each time\n",
    "        dir_off_min = dir_off[dist_off == dist_off_min.reshape(-1,1)]  # (n_frame,) array\n",
    "        # calculate the difference between the defender direction and offense direction, accounting for 0-360 wrap\n",
    "        dir_diff_m360 = dir_player - dir_off_min - 360  # min when defender dir = 359, offense dir = 0\n",
    "        dir_diff = dir_player - dir_off_min             # min when wrap is not an issue (defender = 10, offense = 11)\n",
    "        dir_diff_p360 = dir_player - dir_off_min + 360  # min when defender dir = 0, offense dir = 359\n",
    "        temp_dir_compare = np.where(np.abs(dir_diff_m360) < np.abs(dir_diff), dir_diff_m360, dir_diff)\n",
    "        dir_diff_min = np.where(np.abs(temp_dir_compare) < np.abs(dir_diff_p360), temp_dir_compare, dir_diff_p360)\n",
    "        \n",
    "        # calculate ratio of distance to closest offensive player \"j\" (d_i-j) and distance from same offensive player\n",
    "        # to defensive player \"k\" nearest to current player (d_j-k)\n",
    "        x_j = x_off[dist_off == dist_off_min.reshape(-1,1)]  # (n_frame,) array\n",
    "        y_j = y_off[dist_off == dist_off_min.reshape(-1,1)]  # (n_frame,) array\n",
    "        x_k = x_def[dist_def == dist_def_min.reshape(-1,1)]  # (n_frame,) array\n",
    "        y_k = y_def[dist_def == dist_def_min.reshape(-1,1)]  # (n_frame,) array\n",
    "        ratio = dist_off_min / np.sqrt((x_j - x_k)**2 + (y_j - y_k)**2)\n",
    "        \n",
    "        # calculate the ratio of frames a defender is facing the line of scrimmage\n",
    "        rat_o_los = np.nanmean((o_player > 180) & (o_player < 360))\n",
    "        \n",
    "        # save average distance\n",
    "        feature_data['depth_mean'].append(np.nanmean(depth_player))\n",
    "        feature_data['depth_var'].append(np.nanvar(depth_player))\n",
    "        feature_data['y_mean'].append(np.nanmean(y_player))\n",
    "        feature_data['y_var'].append(np.nanvar(y_player))\n",
    "        feature_data['speed_mean'].append(np.nanmean(s_player))\n",
    "        feature_data['speed_var'].append(np.nanvar(s_player))\n",
    "        feature_data['off_mean'].append(np.nanmean(dist_off_min))\n",
    "        feature_data['off_var'].append(np.nanvar(dist_off_min))\n",
    "        feature_data['off_dir_mean'].append(np.nanmean(dir_diff_min))\n",
    "        feature_data['off_dir_var'].append(np.nanvar(dir_diff_min))\n",
    "        feature_data['def_mean'].append(np.nanmean(dist_def_min))\n",
    "        feature_data['def_var'].append(np.nanvar(dist_def_min))\n",
    "        feature_data['rat_mean'].append(np.nanmean(ratio))\n",
    "        feature_data['rat_var'].append(np.nanvar(ratio))\n",
    "        feature_data['rat_o_los'].append(rat_o_los)\n",
    "        \n",
    "    # put results into a dataframe\n",
    "    dist_df = pd.DataFrame(feature_data, index=cover_players)\n",
    "    \n",
    "    # return averages of all coverage players\n",
    "    out_data = dist_df.mean()\n",
    "    out_data['n_cover'] = len(cover_players)\n",
    "    out_data['n_cb'] = n_cb\n",
    "    out_data['n_deep_snap'] = n_deep_snap\n",
    "    out_data['n_deep_frz'] = n_deep_freeze\n",
    "    out_data['n_def_excess'] = n_def_excess\n",
    "    out_data['def_spac_frz_avg'] = np.nanmean(dist_def_min_array[frame_cover_freeze - frame_start, :])\n",
    "    out_data['def_spac_frz_min'] = np.nanmin(dist_def_min_array[frame_cover_freeze - frame_start, :])\n",
    "    \n",
    "    # add in CB-specific features\n",
    "    if n_cb > 0:\n",
    "        out_data['cb_depth_snap_min'] = np.nanmin(cb_depth_at_snap)\n",
    "        out_data['cb_depth_snap_mean'] = np.nanmean(cb_depth_at_snap)\n",
    "        out_data['cb_depth_snap_max'] = np.nanmax(cb_depth_at_snap)\n",
    "        out_data['cb_depth_frz_min'] = np.nanmin(cb_depth_at_freeze)\n",
    "        out_data['cb_depth_frz_mean'] = np.nanmean(cb_depth_at_freeze)\n",
    "        out_data['cb_depth_frz_max'] = np.nanmax(cb_depth_at_freeze)\n",
    "    else:\n",
    "        out_data['cb_depth_snap_min'] = 0\n",
    "        out_data['cb_depth_snap_mean'] = 0\n",
    "        out_data['cb_depth_snap_max'] = 0\n",
    "        out_data['cb_depth_frz_min'] = 0\n",
    "        out_data['cb_depth_frz_mean'] = 0\n",
    "        out_data['cb_depth_frz_max'] = 0\n",
    "    \n",
    "    return out_data\n",
    "    \n",
    "# # test the function\n",
    "# game_id = 2018090600\n",
    "# play_id = 190\n",
    "# play_track_df = track_df[(track_df.gameId==game_id) & (track_df.playId == play_id)]\n",
    "# test_df = nflutil.transform_tracking_data(play_track_df)\n",
    "# out=create_play_features(test_df)\n",
    "# out"
   ]
  },
  {
   "cell_type": "code",
   "execution_count": 53,
   "metadata": {},
   "outputs": [],
   "source": [
    "def create_feature_dataframe(track_df, coverage_df, t_scheme_develop=3):\n",
    "    # Transform the raw tracking data so that all offensive plays face the same direction,\n",
    "    # group the tracking data for each play together\n",
    "    test_df_group = nflutil.transform_tracking_data(track_df).groupby(['gameId', 'playId'])\n",
    "\n",
    "    # ------ Create the features for each play ---------------------\n",
    "    feature_df = pd.DataFrame()\n",
    "\n",
    "    col_names = []\n",
    "    values = []\n",
    "\n",
    "    # loop over each play\n",
    "    for (loop_game_id, loop_play_id), loop_track_df in test_df_group:\n",
    "\n",
    "        # error block for easier debugging if a particular play runs into an error\n",
    "        try:\n",
    "            features = create_play_features(loop_track_df, t_scheme_develop=t_scheme_develop)\n",
    "        except Exception as err:\n",
    "            print(f'error in gameId {loop_game_id}, playId {loop_play_id}')\n",
    "            raise err\n",
    "\n",
    "        # first loop: save the output dataframe column names (gameId, playId, all feature names)\n",
    "        if not col_names: # empty\n",
    "            col_names.extend(['gameId', 'playId'])\n",
    "            col_names.extend(features.index.tolist())\n",
    "\n",
    "        # save the gameId, playId, and all feature values into a list\n",
    "        loop_values = [loop_game_id, loop_play_id]\n",
    "        loop_values.extend(features.values.tolist())\n",
    "        values.append(loop_values)\n",
    "\n",
    "    # convert the features into a dataframe (1 row per play), inner join on plays with labeled coverages\n",
    "    feature_df = pd.DataFrame(values, columns=col_names)\n",
    "    labeled_play_df = pd.merge(feature_df, coverage_df.dropna(), on=['gameId', 'playId'])\n",
    "\n",
    "    # split coverage into \"Cover X\" and Zone labels\n",
    "\n",
    "    # Zone\n",
    "    labeled_play_df['zone'] = 0\n",
    "    labeled_play_df.loc[labeled_play_df.coverage.str.contains('Zone'), 'zone'] = 1\n",
    "\n",
    "    # Cover X (Prevent will be listed as np.nan)\n",
    "    labeled_play_df['cover'] = np.nan\n",
    "    labeled_play_df.loc[labeled_play_df.coverage.str.contains('Cover'), 'cover'] = (\n",
    "        labeled_play_df.loc[labeled_play_df.coverage.str.contains('Cover'), 'coverage'].apply(\n",
    "        lambda x: int(x.split()[1]))\n",
    "    )\n",
    "    \n",
    "    # return the feature dataframe\n",
    "    return labeled_play_df\n",
    "\n",
    "# ---------------- call function\n",
    "labeled_play_df = create_feature_dataframe(track_df, coverage_df)"
   ]
  },
  {
   "cell_type": "markdown",
   "metadata": {},
   "source": [
    "Labeled coverage counts:"
   ]
  },
  {
   "cell_type": "code",
   "execution_count": 50,
   "metadata": {},
   "outputs": [
    {
     "data": {
      "text/plain": [
       "Cover 3 Zone    352\n",
       "Cover 1 Man     296\n",
       "Cover 4 Zone    152\n",
       "Cover 2 Zone    113\n",
       "Cover 6 Zone     69\n",
       "Cover 2 Man      32\n",
       "Cover 0 Man      13\n",
       "Prevent Zone      1\n",
       "Name: coverage, dtype: int64"
      ]
     },
     "execution_count": 50,
     "metadata": {},
     "output_type": "execute_result"
    }
   ],
   "source": [
    "labeled_play_df.coverage.value_counts()"
   ]
  },
  {
   "cell_type": "markdown",
   "metadata": {},
   "source": [
    "For labeled coverages, prevent won't be trained. It will be easy to spot with large average depth of the defenders at the snap."
   ]
  },
  {
   "cell_type": "markdown",
   "metadata": {},
   "source": [
    "# Classification of All Coverage Types (Multi-class, abbr = \"_ac\")"
   ]
  },
  {
   "cell_type": "markdown",
   "metadata": {},
   "source": [
    "## Train-test split\n",
    "\n",
    "Coverage label is encoded into integer labels"
   ]
  },
  {
   "cell_type": "code",
   "execution_count": 9,
   "metadata": {},
   "outputs": [],
   "source": [
    "# drop the prevent defense example from training (will handle that case outside of algorithm)\n",
    "ac_df = labeled_play_df.copy()\n",
    "ac_df = ac_df[ac_df.coverage != 'Prevent Zone']\n",
    "\n",
    "# train test split\n",
    "y_ac_encoder = OrdinalEncoder().fit(ac_df.coverage.to_numpy().reshape(-1,1))\n",
    "y_ac = y_ac_encoder.transform(ac_df.coverage.to_numpy().reshape(-1,1)).ravel()\n",
    "X_ac = ac_df.drop(columns=['gameId', 'playId', 'coverage', 'zone', 'cover'])\n",
    "X_ac_train, X_ac_test, y_ac_train, y_ac_test = train_test_split(X_ac, y_ac, \n",
    "                                                                test_size=0.2, stratify=y_ac, random_state=123456)"
   ]
  },
  {
   "cell_type": "markdown",
   "metadata": {},
   "source": [
    "Confirm no leakage variables in feature set (gameId, playId, labels, etc.)"
   ]
  },
  {
   "cell_type": "code",
   "execution_count": 10,
   "metadata": {},
   "outputs": [
    {
     "data": {
      "text/plain": [
       "Index(['depth_mean', 'depth_var', 'y_mean', 'y_var', 'speed_mean', 'speed_var',\n",
       "       'off_mean', 'off_var', 'off_dir_mean', 'off_dir_var', 'def_mean',\n",
       "       'def_var', 'rat_mean', 'rat_var', 'rat_o_los', 'n_cover', 'n_cb',\n",
       "       'n_deep_snap', 'n_deep_frz', 'n_def_excess', 'def_spac_frz_avg',\n",
       "       'def_spac_frz_min', 'cb_depth_snap_min', 'cb_depth_snap_mean',\n",
       "       'cb_depth_snap_max', 'cb_depth_frz_min', 'cb_depth_frz_mean',\n",
       "       'cb_depth_frz_max'],\n",
       "      dtype='object')"
      ]
     },
     "execution_count": 10,
     "metadata": {},
     "output_type": "execute_result"
    }
   ],
   "source": [
    "X_ac.columns"
   ]
  },
  {
   "cell_type": "code",
   "execution_count": 11,
   "metadata": {},
   "outputs": [
    {
     "data": {
      "text/plain": [
       "[array(['Cover 0 Man', 'Cover 1 Man', 'Cover 2 Man', 'Cover 2 Zone',\n",
       "        'Cover 3 Zone', 'Cover 4 Zone', 'Cover 6 Zone'], dtype=object)]"
      ]
     },
     "execution_count": 11,
     "metadata": {},
     "output_type": "execute_result"
    }
   ],
   "source": [
    "y_ac_encoder.categories_"
   ]
  },
  {
   "cell_type": "markdown",
   "metadata": {},
   "source": [
    "## Train model\n",
    "\n",
    "StandardScaler isn't necessary for random forest, but included in case the pipeline is modified later to include another algorithm that does need feature scaling"
   ]
  },
  {
   "cell_type": "code",
   "execution_count": 12,
   "metadata": {},
   "outputs": [
    {
     "name": "stdout",
     "output_type": "stream",
     "text": [
      "Train accuracy: 0.853\n",
      "CV average accuracy: 0.604\n"
     ]
    }
   ],
   "source": [
    "# build pipeline\n",
    "estimators_ac = [('normalize', StandardScaler()),\n",
    "              ('clf', RandomForestClassifier(n_estimators=100, random_state=123456))]\n",
    "pipe_ac = Pipeline(estimators_ac)\n",
    "\n",
    "# build grid search\n",
    "param_grid_ac = {\n",
    "    'clf__criterion': ['gini', 'entropy'],\n",
    "    'clf__max_depth': [None, 2, 4, 8],\n",
    "    'clf__max_features': ['auto', 'sqrt', 'log2'],\n",
    "    'clf__min_samples_leaf': [5, 10]  # min > 1 to help control overfitting\n",
    "}\n",
    "\n",
    "clf_ac = GridSearchCV(pipe_ac, param_grid=param_grid_ac)\n",
    "clf_ac.fit(X_ac_train, y_ac_train)\n",
    "print(f'Train accuracy: {accuracy_score(y_ac_train, clf_ac.predict(X_ac_train)):.3f}')\n",
    "print(f'CV average accuracy: {clf_ac.best_score_:.3f}')"
   ]
  },
  {
   "cell_type": "code",
   "execution_count": 13,
   "metadata": {},
   "outputs": [
    {
     "data": {
      "text/plain": [
       "{'clf__criterion': 'entropy',\n",
       " 'clf__max_depth': None,\n",
       " 'clf__max_features': 'auto',\n",
       " 'clf__min_samples_leaf': 5}"
      ]
     },
     "execution_count": 13,
     "metadata": {},
     "output_type": "execute_result"
    }
   ],
   "source": [
    "clf_ac.best_params_"
   ]
  },
  {
   "cell_type": "code",
   "execution_count": 14,
   "metadata": {},
   "outputs": [
    {
     "name": "stdout",
     "output_type": "stream",
     "text": [
      "Test accuracy: 0.549\n",
      "Confusion Matrix: \n"
     ]
    },
    {
     "data": {
      "text/html": [
       "<div>\n",
       "<style scoped>\n",
       "    .dataframe tbody tr th:only-of-type {\n",
       "        vertical-align: middle;\n",
       "    }\n",
       "\n",
       "    .dataframe tbody tr th {\n",
       "        vertical-align: top;\n",
       "    }\n",
       "\n",
       "    .dataframe thead th {\n",
       "        text-align: right;\n",
       "    }\n",
       "</style>\n",
       "<table border=\"1\" class=\"dataframe\">\n",
       "  <thead>\n",
       "    <tr style=\"text-align: right;\">\n",
       "      <th></th>\n",
       "      <th>(P) Cover 0 Man</th>\n",
       "      <th>(P) Cover 1 Man</th>\n",
       "      <th>(P) Cover 2 Man</th>\n",
       "      <th>(P) Cover 2 Zone</th>\n",
       "      <th>(P) Cover 3 Zone</th>\n",
       "      <th>(P) Cover 4 Zone</th>\n",
       "      <th>(P) Cover 6 Zone</th>\n",
       "    </tr>\n",
       "  </thead>\n",
       "  <tbody>\n",
       "    <tr>\n",
       "      <th>(A) Cover 0 Man</th>\n",
       "      <td>0</td>\n",
       "      <td>1</td>\n",
       "      <td>0</td>\n",
       "      <td>0</td>\n",
       "      <td>1</td>\n",
       "      <td>1</td>\n",
       "      <td>0</td>\n",
       "    </tr>\n",
       "    <tr>\n",
       "      <th>(A) Cover 1 Man</th>\n",
       "      <td>0</td>\n",
       "      <td>37</td>\n",
       "      <td>0</td>\n",
       "      <td>3</td>\n",
       "      <td>19</td>\n",
       "      <td>0</td>\n",
       "      <td>0</td>\n",
       "    </tr>\n",
       "    <tr>\n",
       "      <th>(A) Cover 2 Man</th>\n",
       "      <td>0</td>\n",
       "      <td>3</td>\n",
       "      <td>0</td>\n",
       "      <td>3</td>\n",
       "      <td>0</td>\n",
       "      <td>0</td>\n",
       "      <td>0</td>\n",
       "    </tr>\n",
       "    <tr>\n",
       "      <th>(A) Cover 2 Zone</th>\n",
       "      <td>0</td>\n",
       "      <td>3</td>\n",
       "      <td>0</td>\n",
       "      <td>10</td>\n",
       "      <td>6</td>\n",
       "      <td>4</td>\n",
       "      <td>0</td>\n",
       "    </tr>\n",
       "    <tr>\n",
       "      <th>(A) Cover 3 Zone</th>\n",
       "      <td>0</td>\n",
       "      <td>12</td>\n",
       "      <td>0</td>\n",
       "      <td>2</td>\n",
       "      <td>56</td>\n",
       "      <td>1</td>\n",
       "      <td>0</td>\n",
       "    </tr>\n",
       "    <tr>\n",
       "      <th>(A) Cover 4 Zone</th>\n",
       "      <td>0</td>\n",
       "      <td>6</td>\n",
       "      <td>0</td>\n",
       "      <td>4</td>\n",
       "      <td>10</td>\n",
       "      <td>10</td>\n",
       "      <td>0</td>\n",
       "    </tr>\n",
       "    <tr>\n",
       "      <th>(A) Cover 6 Zone</th>\n",
       "      <td>0</td>\n",
       "      <td>1</td>\n",
       "      <td>0</td>\n",
       "      <td>2</td>\n",
       "      <td>8</td>\n",
       "      <td>3</td>\n",
       "      <td>0</td>\n",
       "    </tr>\n",
       "  </tbody>\n",
       "</table>\n",
       "</div>"
      ],
      "text/plain": [
       "                  (P) Cover 0 Man  (P) Cover 1 Man  (P) Cover 2 Man  \\\n",
       "(A) Cover 0 Man                 0                1                0   \n",
       "(A) Cover 1 Man                 0               37                0   \n",
       "(A) Cover 2 Man                 0                3                0   \n",
       "(A) Cover 2 Zone                0                3                0   \n",
       "(A) Cover 3 Zone                0               12                0   \n",
       "(A) Cover 4 Zone                0                6                0   \n",
       "(A) Cover 6 Zone                0                1                0   \n",
       "\n",
       "                  (P) Cover 2 Zone  (P) Cover 3 Zone  (P) Cover 4 Zone  \\\n",
       "(A) Cover 0 Man                  0                 1                 1   \n",
       "(A) Cover 1 Man                  3                19                 0   \n",
       "(A) Cover 2 Man                  3                 0                 0   \n",
       "(A) Cover 2 Zone                10                 6                 4   \n",
       "(A) Cover 3 Zone                 2                56                 1   \n",
       "(A) Cover 4 Zone                 4                10                10   \n",
       "(A) Cover 6 Zone                 2                 8                 3   \n",
       "\n",
       "                  (P) Cover 6 Zone  \n",
       "(A) Cover 0 Man                  0  \n",
       "(A) Cover 1 Man                  0  \n",
       "(A) Cover 2 Man                  0  \n",
       "(A) Cover 2 Zone                 0  \n",
       "(A) Cover 3 Zone                 0  \n",
       "(A) Cover 4 Zone                 0  \n",
       "(A) Cover 6 Zone                 0  "
      ]
     },
     "execution_count": 14,
     "metadata": {},
     "output_type": "execute_result"
    }
   ],
   "source": [
    "y_ac_pred = clf_ac.predict(X_ac_test)\n",
    "print(f'Test accuracy: {accuracy_score(y_ac_test, y_ac_pred):.3f}')\n",
    "print('Confusion Matrix: ')\n",
    "pd.DataFrame(confusion_matrix(y_ac_test, y_ac_pred),\n",
    "                   index=('(A) ' + y_ac_encoder.categories_[0]),\n",
    "                   columns=('(P) ' + y_ac_encoder.categories_[0]))"
   ]
  },
  {
   "cell_type": "code",
   "execution_count": 15,
   "metadata": {},
   "outputs": [
    {
     "data": {
      "text/plain": [
       "n_deep_frz            0.089372\n",
       "depth_mean            0.074819\n",
       "cb_depth_snap_min     0.066593\n",
       "cb_depth_frz_max      0.062645\n",
       "cb_depth_frz_mean     0.054000\n",
       "off_mean              0.053256\n",
       "n_deep_snap           0.049379\n",
       "speed_var             0.042502\n",
       "cb_depth_frz_min      0.036005\n",
       "def_spac_frz_min      0.033978\n",
       "def_spac_frz_avg      0.032988\n",
       "cb_depth_snap_max     0.032573\n",
       "cb_depth_snap_mean    0.032443\n",
       "def_mean              0.031342\n",
       "off_dir_var           0.029778\n",
       "rat_mean              0.029770\n",
       "speed_mean            0.027574\n",
       "def_var               0.026961\n",
       "off_var               0.026206\n",
       "depth_var             0.024261\n",
       "rat_var               0.023554\n",
       "rat_o_los             0.022582\n",
       "off_dir_mean          0.020501\n",
       "y_mean                0.020008\n",
       "y_var                 0.019924\n",
       "n_cover               0.017021\n",
       "n_def_excess          0.014789\n",
       "n_cb                  0.005178\n",
       "dtype: float64"
      ]
     },
     "execution_count": 15,
     "metadata": {},
     "output_type": "execute_result"
    }
   ],
   "source": [
    "pd.Series(clf_ac.best_estimator_['clf'].feature_importances_, index=X_ac.columns).sort_values(ascending=False)"
   ]
  },
  {
   "cell_type": "markdown",
   "metadata": {},
   "source": [
    "# Classification of Zone vs. Man (Binary)"
   ]
  },
  {
   "cell_type": "markdown",
   "metadata": {},
   "source": [
    "## Train-test split"
   ]
  },
  {
   "cell_type": "code",
   "execution_count": 16,
   "metadata": {},
   "outputs": [],
   "source": [
    "# use whole set of data\n",
    "zone_df = labeled_play_df.copy()\n",
    "\n",
    "# train test split\n",
    "y_z = zone_df.zone\n",
    "X_z = zone_df.drop(columns=['gameId', 'playId', 'coverage', 'zone', 'cover'])\n",
    "X_z_train, X_z_test, y_z_train, y_z_test = train_test_split(X_z, y_z, test_size=0.2, stratify=y_z, random_state=123456)"
   ]
  },
  {
   "cell_type": "markdown",
   "metadata": {},
   "source": [
    "## Train model\n",
    "\n",
    "StandardScaler isn't necessary for random forest, but included in case the pipeline is modified later to include another algorithm that does need feature scaling"
   ]
  },
  {
   "cell_type": "code",
   "execution_count": 17,
   "metadata": {},
   "outputs": [
    {
     "name": "stdout",
     "output_type": "stream",
     "text": [
      "Train accuracy: 0.939\n",
      "CV average accuracy: 0.820\n"
     ]
    }
   ],
   "source": [
    "# build pipeline\n",
    "estimators_z = [('normalize', StandardScaler()),\n",
    "              ('clf', RandomForestClassifier(n_estimators=100, random_state=123456))]\n",
    "pipe_z = Pipeline(estimators_z)\n",
    "\n",
    "# build grid search\n",
    "param_grid_z = {\n",
    "    'clf__criterion': ['gini', 'entropy'],\n",
    "    'clf__max_depth': [None, 2, 4, 8],\n",
    "    'clf__max_features': ['auto', 'sqrt', 'log2'],\n",
    "    'clf__min_samples_leaf': [1]\n",
    "}\n",
    "\n",
    "clf_z = GridSearchCV(pipe_z, param_grid=param_grid_z)\n",
    "clf_z.fit(X_z_train, y_z_train)\n",
    "print(f'Train accuracy: {accuracy_score(y_z_train, clf_z.predict(X_z_train)):.3f}')\n",
    "print(f'CV average accuracy: {clf_z.best_score_:.3f}')"
   ]
  },
  {
   "cell_type": "code",
   "execution_count": 18,
   "metadata": {},
   "outputs": [
    {
     "data": {
      "text/plain": [
       "{'clf__criterion': 'gini',\n",
       " 'clf__max_depth': None,\n",
       " 'clf__max_features': 'auto',\n",
       " 'clf__min_samples_leaf': 5}"
      ]
     },
     "execution_count": 18,
     "metadata": {},
     "output_type": "execute_result"
    }
   ],
   "source": [
    "clf_z.best_params_"
   ]
  },
  {
   "cell_type": "code",
   "execution_count": 19,
   "metadata": {},
   "outputs": [
    {
     "name": "stdout",
     "output_type": "stream",
     "text": [
      "Test accuracy: 0.825\n",
      "Confusion Matrix: \n"
     ]
    },
    {
     "data": {
      "text/html": [
       "<div>\n",
       "<style scoped>\n",
       "    .dataframe tbody tr th:only-of-type {\n",
       "        vertical-align: middle;\n",
       "    }\n",
       "\n",
       "    .dataframe tbody tr th {\n",
       "        vertical-align: top;\n",
       "    }\n",
       "\n",
       "    .dataframe thead th {\n",
       "        text-align: right;\n",
       "    }\n",
       "</style>\n",
       "<table border=\"1\" class=\"dataframe\">\n",
       "  <thead>\n",
       "    <tr style=\"text-align: right;\">\n",
       "      <th></th>\n",
       "      <th>Pred. Man</th>\n",
       "      <th>Pred. Zone</th>\n",
       "    </tr>\n",
       "  </thead>\n",
       "  <tbody>\n",
       "    <tr>\n",
       "      <th>Actual Man</th>\n",
       "      <td>40</td>\n",
       "      <td>28</td>\n",
       "    </tr>\n",
       "    <tr>\n",
       "      <th>Actual Zone</th>\n",
       "      <td>8</td>\n",
       "      <td>130</td>\n",
       "    </tr>\n",
       "  </tbody>\n",
       "</table>\n",
       "</div>"
      ],
      "text/plain": [
       "             Pred. Man  Pred. Zone\n",
       "Actual Man          40          28\n",
       "Actual Zone          8         130"
      ]
     },
     "execution_count": 19,
     "metadata": {},
     "output_type": "execute_result"
    }
   ],
   "source": [
    "y_z_pred = clf_z.predict(X_z_test)\n",
    "print(f'Test accuracy: {accuracy_score(y_z_test, y_z_pred):.3f}')\n",
    "print('Confusion Matrix: ')\n",
    "pd.DataFrame(confusion_matrix(y_z_test, y_z_pred),\n",
    "                   index=['Actual Man', 'Actual Zone'],\n",
    "                   columns=['Pred. Man', 'Pred. Zone'])"
   ]
  },
  {
   "cell_type": "code",
   "execution_count": 20,
   "metadata": {},
   "outputs": [
    {
     "data": {
      "text/plain": [
       "cb_depth_snap_min     0.125662\n",
       "depth_mean            0.108432\n",
       "off_mean              0.087439\n",
       "speed_var             0.058136\n",
       "cb_depth_snap_mean    0.047357\n",
       "cb_depth_frz_mean     0.044158\n",
       "cb_depth_frz_max      0.037681\n",
       "def_spac_frz_min      0.035857\n",
       "rat_var               0.035204\n",
       "cb_depth_frz_min      0.034542\n",
       "cb_depth_snap_max     0.034204\n",
       "n_deep_frz            0.033848\n",
       "n_cover               0.033338\n",
       "y_var                 0.029963\n",
       "rat_mean              0.028480\n",
       "off_var               0.024495\n",
       "def_var               0.023634\n",
       "def_mean              0.023052\n",
       "depth_var             0.022786\n",
       "def_spac_frz_avg      0.019047\n",
       "y_mean                0.019022\n",
       "n_def_excess          0.018677\n",
       "off_dir_var           0.017568\n",
       "off_dir_mean          0.016782\n",
       "rat_o_los             0.015651\n",
       "speed_mean            0.015331\n",
       "n_deep_snap           0.005777\n",
       "n_cb                  0.003881\n",
       "dtype: float64"
      ]
     },
     "execution_count": 20,
     "metadata": {},
     "output_type": "execute_result"
    }
   ],
   "source": [
    "pd.Series(clf_z.best_estimator_['clf'].feature_importances_, index=X_z.columns).sort_values(ascending=False)"
   ]
  },
  {
   "cell_type": "markdown",
   "metadata": {},
   "source": [
    "# Check Random Forest Asymptote"
   ]
  },
  {
   "cell_type": "code",
   "execution_count": 35,
   "metadata": {},
   "outputs": [],
   "source": [
    "spacing = 10\n",
    "n_trees = np.arange(spacing, 200+spacing, spacing)\n",
    "rf_accuracy = []\n",
    "\n",
    "for n_tree in n_trees:\n",
    "    rf_estimator = RandomForestClassifier(n_estimators=n_tree, min_samples_leaf=1, random_state=123456)\n",
    "    estimators_loop = Pipeline([('normalize', StandardScaler()),\n",
    "                                ('clf', rf_estimator)])\n",
    "    estimators_loop.fit(X_z_train, y_z_train)\n",
    "    rf_accuracy.append(accuracy_score(y_z_test, estimators_loop.predict(X_z_test)))"
   ]
  },
  {
   "cell_type": "code",
   "execution_count": 36,
   "metadata": {},
   "outputs": [
    {
     "data": {
      "image/png": "[encoded data removed]",
      "text/plain": [
       "<Figure size 432x288 with 1 Axes>"
      ]
     },
     "metadata": {
      "needs_background": "light"
     },
     "output_type": "display_data"
    }
   ],
   "source": [
    "# plot results\n",
    "plt.figure()\n",
    "plt.plot(n_trees, rf_accuracy, 'o-')\n",
    "plt.xlabel('Number of Trees')\n",
    "plt.ylabel('Accuracy')\n",
    "plt.title('Random Forest Man/Zone Classifier Test Accuracy vs. N_trees');"
   ]
  },
  {
   "cell_type": "markdown",
   "metadata": {},
   "source": [
    "Increasing the number of trees does have a positive effect on the accuracy."
   ]
  },
  {
   "cell_type": "markdown",
   "metadata": {},
   "source": [
    "# Check other classification schemes"
   ]
  },
  {
   "cell_type": "code",
   "execution_count": 41,
   "metadata": {},
   "outputs": [
    {
     "name": "stdout",
     "output_type": "stream",
     "text": [
      "Train accuracy: 0.853\n",
      "CV average accuracy: 0.813\n"
     ]
    }
   ],
   "source": [
    "# build pipeline\n",
    "estimators_cl = [('normalize', StandardScaler()),\n",
    "              ('clf', SVC())]\n",
    "pipe_cl = Pipeline(estimators_cl)\n",
    "\n",
    "# build grid search\n",
    "param_grid_cl = [\n",
    "    {\n",
    "        'clf': [SVC(random_state=123456)],\n",
    "        'clf__kernel': ['linear', 'poly', 'rbf', 'sigmoid'],\n",
    "        'clf__gamma': ['scale', 'auto'],\n",
    "    },\n",
    "    {\n",
    "        'clf': [KNeighborsClassifier()],\n",
    "        'clf__n_neighbors': [3, 5, 7, 10, 15]\n",
    "    },\n",
    "    {\n",
    "        'clf': [GaussianNB()]\n",
    "    },\n",
    "    {\n",
    "        'clf': [AdaBoostClassifier(random_state=123456)],\n",
    "        'clf__n_estimators': [20, 50, 100, 200]\n",
    "    }\n",
    "]\n",
    "\n",
    "clf_cl = GridSearchCV(pipe_cl, param_grid=param_grid_cl)\n",
    "clf_cl.fit(X_z_train, y_z_train)\n",
    "print(f'Train accuracy: {accuracy_score(y_z_train, clf_cl.predict(X_z_train)):.3f}')\n",
    "print(f'CV average accuracy: {clf_cl.best_score_:.3f}')"
   ]
  },
  {
   "cell_type": "code",
   "execution_count": 42,
   "metadata": {},
   "outputs": [
    {
     "data": {
      "text/plain": [
       "{'clf': SVC(kernel='linear', random_state=123456),\n",
       " 'clf__gamma': 'scale',\n",
       " 'clf__kernel': 'linear'}"
      ]
     },
     "execution_count": 42,
     "metadata": {},
     "output_type": "execute_result"
    }
   ],
   "source": [
    "clf_cl.best_params_"
   ]
  },
  {
   "cell_type": "code",
   "execution_count": 43,
   "metadata": {},
   "outputs": [
    {
     "name": "stdout",
     "output_type": "stream",
     "text": [
      "Test accuracy: 0.854\n",
      "Confusion Matrix: \n"
     ]
    },
    {
     "data": {
      "text/html": [
       "<div>\n",
       "<style scoped>\n",
       "    .dataframe tbody tr th:only-of-type {\n",
       "        vertical-align: middle;\n",
       "    }\n",
       "\n",
       "    .dataframe tbody tr th {\n",
       "        vertical-align: top;\n",
       "    }\n",
       "\n",
       "    .dataframe thead th {\n",
       "        text-align: right;\n",
       "    }\n",
       "</style>\n",
       "<table border=\"1\" class=\"dataframe\">\n",
       "  <thead>\n",
       "    <tr style=\"text-align: right;\">\n",
       "      <th></th>\n",
       "      <th>Pred. Man</th>\n",
       "      <th>Pred. Zone</th>\n",
       "    </tr>\n",
       "  </thead>\n",
       "  <tbody>\n",
       "    <tr>\n",
       "      <th>Actual Man</th>\n",
       "      <td>48</td>\n",
       "      <td>20</td>\n",
       "    </tr>\n",
       "    <tr>\n",
       "      <th>Actual Zone</th>\n",
       "      <td>10</td>\n",
       "      <td>128</td>\n",
       "    </tr>\n",
       "  </tbody>\n",
       "</table>\n",
       "</div>"
      ],
      "text/plain": [
       "             Pred. Man  Pred. Zone\n",
       "Actual Man          48          20\n",
       "Actual Zone         10         128"
      ]
     },
     "execution_count": 43,
     "metadata": {},
     "output_type": "execute_result"
    }
   ],
   "source": [
    "y_z_pred = clf_cl.predict(X_z_test)\n",
    "print(f'Test accuracy: {accuracy_score(y_z_test, y_z_pred):.3f}')\n",
    "print('Confusion Matrix: ')\n",
    "pd.DataFrame(confusion_matrix(y_z_test, y_z_pred),\n",
    "                   index=['Actual Man', 'Actual Zone'],\n",
    "                   columns=['Pred. Man', 'Pred. Zone'])"
   ]
  },
  {
   "cell_type": "markdown",
   "metadata": {},
   "source": [
    "The best of the other schemes tend to have around the same accuracy of the random forest classifier."
   ]
  },
  {
   "cell_type": "markdown",
   "metadata": {},
   "source": [
    "# Test other cutoff times for the parameters"
   ]
  },
  {
   "cell_type": "code",
   "execution_count": 58,
   "metadata": {},
   "outputs": [],
   "source": [
    "t_scheme_develop = np.arange(2.0, 4.01, 0.1)\n",
    "acc = []\n",
    "\n",
    "for t in t_scheme_develop:\n",
    "    # create feature dataframe\n",
    "    feature_df = create_feature_dataframe(track_df, coverage_df, t_scheme_develop=t)\n",
    "    \n",
    "    # create train-test split\n",
    "    y = feature_df.zone\n",
    "    X = feature_df.drop(columns=['gameId', 'playId', 'coverage', 'zone', 'cover'])\n",
    "    X_train, X_test, y_train, y_test = train_test_split(X, y, test_size=0.2, stratify=y, random_state=123456)\n",
    "    \n",
    "    # train model\n",
    "    estimators = [('normalize', StandardScaler()),\n",
    "              ('clf', RandomForestClassifier(n_estimators=100))]\n",
    "    pipe = Pipeline(estimators)\n",
    "    pipe.fit(X_train, y_train)\n",
    "    \n",
    "    # get test set accuracy\n",
    "    acc.append(accuracy_score(y_test, pipe.predict(X_test)))"
   ]
  },
  {
   "cell_type": "code",
   "execution_count": 60,
   "metadata": {},
   "outputs": [
    {
     "data": {
      "image/png": "[encoded data removed]",
      "text/plain": [
       "<Figure size 432x288 with 1 Axes>"
      ]
     },
     "metadata": {
      "needs_background": "light"
     },
     "output_type": "display_data"
    }
   ],
   "source": [
    "# plot\n",
    "plt.figure()\n",
    "plt.plot(t_scheme_develop, acc, 'o-')\n",
    "plt.xlabel('t_scheme_develop (sec)')\n",
    "plt.ylabel('Accuracy')\n",
    "plt.title('Random Forest Man/Zone Classifier Test Accuracy vs. t_scheme_develop');"
   ]
  },
  {
   "cell_type": "markdown",
   "metadata": {},
   "source": [
    "The accuracy seems to get better as the develop time gets higher. Makes sense since it is more data."
   ]
  },
  {
   "cell_type": "markdown",
   "metadata": {},
   "source": [
    "# NEXT UP\n",
    "\n",
    "* Look at higher t_scheme_develop values > 4 sec\n",
    "* Change the rat_o_los calculator to use a much lower angle as facing the line of scrimmage (e.g. 60 deg cone: 240-300 deg instead of 180-360 deg)\n",
    "* Allow a buffer time after the \"throw\" event to account for reaction time (i.e. players continuing to do their assignment until they realize the ball has been thrown). Since the accuracy tends to go up as t_scheme_develop goes up, longer periods of data seem to give better predictive results."
   ]
  }
 ],
 "metadata": {
  "kernelspec": {
   "display_name": "Python 3",
   "language": "python",
   "name": "python3"
  },
  "language_info": {
   "codemirror_mode": {
    "name": "ipython",
    "version": 3
   },
   "file_extension": ".py",
   "mimetype": "text/x-python",
   "name": "python",
   "nbconvert_exporter": "python",
   "pygments_lexer": "ipython3",
   "version": "3.7.9"
  }
 },
 "nbformat": 4,
 "nbformat_minor": 4
}
